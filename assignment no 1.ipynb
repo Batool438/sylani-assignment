{
 "cells": [
  {
   "cell_type": "code",
   "execution_count": 1,
   "metadata": {},
   "outputs": [
    {
     "data": {
      "text/plain": [
       "'Hello,world!'"
      ]
     },
     "execution_count": 1,
     "metadata": {},
     "output_type": "execute_result"
    }
   ],
   "source": [
    "(\"Hello,world!\")\n"
   ]
  },
  {
   "cell_type": "code",
   "execution_count": 3,
   "metadata": {},
   "outputs": [
    {
     "name": "stdout",
     "output_type": "stream",
     "text": [
      "Twinkle, twinkle, little star,\n",
      " \tHow I wonder what you are! \n",
      " \t \tup above the world so high \n",
      " \t \tlike a diamond in the sky.\n",
      "Twinkle, twinkle,little star,\n",
      " \tHow I wonder what you are\n",
      "\n"
     ]
    }
   ],
   "source": [
    "star1=(\"Twinkle, twinkle, little star,\" )\n",
    "star2=(\"How I wonder what you are! \")\n",
    "star3=(\"up above the world so high \")\n",
    "star4=(\"like a diamond in the sky.\")\n",
    "star5=(\"Twinkle, twinkle,little star,\")\n",
    "star6=(\"How I wonder what you are\")\n",
    "print (star1 + '\\n \\t' +\n",
    "       star2 + '\\n \\t \\t' +\n",
    "       star3 + '\\n \\t \\t' +\n",
    "       star4 + '\\n' +\n",
    "       star5 + '\\n \\t' +\n",
    "       star6 + '\\n' )\n"
   ]
  },
  {
   "cell_type": "code",
   "execution_count": 24,
   "metadata": {},
   "outputs": [
    {
     "name": "stdout",
     "output_type": "stream",
     "text": [
      "3.7.4 (default, Aug  9 2019, 18:34:13) [MSC v.1915 64 bit (AMD64)]\n"
     ]
    }
   ],
   "source": [
    "#task_2\n",
    "#python_version\n",
    "import sys\n",
    "print(sys.version)\n"
   ]
  },
  {
   "cell_type": "code",
   "execution_count": 10,
   "metadata": {},
   "outputs": [
    {
     "name": "stdout",
     "output_type": "stream",
     "text": [
      "Enter the radius of circle:4\n",
      "Area of circle is : 50.285714285714285\n"
     ]
    }
   ],
   "source": [
    "#radius_of_the_circle\n",
    "radius=int(input(\"Enter the radius of circle:\"))\n",
    "area=(22/7)*float(radius**2)\n",
    "print(\"Area of circle is :\",area)\n"
   ]
  },
  {
   "cell_type": "code",
   "execution_count": 18,
   "metadata": {},
   "outputs": [
    {
     "name": "stdout",
     "output_type": "stream",
     "text": [
      "2019-11-03 13:01:21.563420\n"
     ]
    }
   ],
   "source": [
    "#current_date_and_time\n",
    "import datetime\n",
    "a= datetime.datetime.now()\n",
    "print(a)\n"
   ]
  },
  {
   "cell_type": "code",
   "execution_count": 25,
   "metadata": {},
   "outputs": [
    {
     "name": "stdout",
     "output_type": "stream",
     "text": [
      "Addition Between Two Numbers\n",
      "First Number = 4\n",
      "Second Number = 5\n",
      "9.0\n"
     ]
    }
   ],
   "source": [
    "#add_two_numbers\n",
    "print(\"Addition Between Two Numbers\")\n",
    "a=float(input(\"First Number = \"))\n",
    "b=float(input(\"Second Number = \"))\n",
    "print(a+b)\n"
   ]
  },
  {
   "cell_type": "code",
   "execution_count": 26,
   "metadata": {},
   "outputs": [
    {
     "name": "stdout",
     "output_type": "stream",
     "text": [
      "Enter First Name: Batool\n",
      "Enter Last Name: Hafeez\n",
      "Batool Hafeez\n"
     ]
    }
   ],
   "source": [
    "#name\n",
    "First=input(\"Enter First Name: \")\n",
    "Last=input(\"Enter Last Name: \")\n",
    "\n",
    "print(First,Last)\n",
    "\n"
   ]
  },
  {
   "cell_type": "code",
   "execution_count": null,
   "metadata": {},
   "outputs": [],
   "source": []
  }
 ],
 "metadata": {
  "kernelspec": {
   "display_name": "Python 3",
   "language": "python",
   "name": "python3"
  },
  "language_info": {
   "codemirror_mode": {
    "name": "ipython",
    "version": 3
   },
   "file_extension": ".py",
   "mimetype": "text/x-python",
   "name": "python",
   "nbconvert_exporter": "python",
   "pygments_lexer": "ipython3",
   "version": "3.7.4"
  }
 },
 "nbformat": 4,
 "nbformat_minor": 2
}
