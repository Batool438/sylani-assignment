{
 "cells": [
  {
   "cell_type": "code",
   "execution_count": 4,
   "metadata": {},
   "outputs": [],
   "source": [
    "#Define Object Oriented Programming Language?\n",
    "#Ans- \n",
    "# 1) Object-oriented programming is the problem-solving approach and used where computation is done by using objects.\n",
    "# 2) It makes the development and maintenance easier.\n",
    "# 3) It provides data hiding. So it is more secure than procedural languages. You cannot access private data from anywhere.)\n"
   ]
  },
  {
   "cell_type": "code",
   "execution_count": 5,
   "metadata": {},
   "outputs": [],
   "source": [
    "#List down the Benefits of OOP?\n",
    "# 1) Modularity for easier troubleshooting\n",
    "# 2) Reuse of code through inheritance\n",
    "# 3) Flexibility through polymorphism\n",
    "# 4) Effective problem solving"
   ]
  },
  {
   "cell_type": "code",
   "execution_count": 9,
   "metadata": {},
   "outputs": [
    {
     "name": "stdout",
     "output_type": "stream",
     "text": [
      "Funtion\n",
      "\n",
      "       1) if we have to use a task again and again we write that task in a function and call it when we need it.\n",
      "       2) we can pass arguments when calling a funtion if it takes parameters .\n",
      "       3) In function you have to pass class attributes as parameters else you can use them in function. \n",
      "Method\n",
      "\n",
      "       Methods are same as functions there are very few differece in methods and functions which are:\n",
      "    1) Methods are written in the scope of class.\n",
      "    2) Methods take \"self\" as first parameter , then you know that its a method\n",
      "    3) self in method takes all the attributes which are defined in class and u can use the attributes \n",
      "       in method using self keyword .\n"
     ]
    }
   ],
   "source": [
    "print('Funtion')\n",
    "print('''\n",
    "       1) if we have to use a task again and again we write that task in a function and call it when we need it.\n",
    "       2) we can pass arguments when calling a funtion if it takes parameters .\n",
    "       3) In function you have to pass class attributes as parameters else you can use them in function. ''')\n",
    "print('Method')\n",
    "\n",
    "print('''\n",
    "       Methods are same as functions there are very few differece in methods and functions which are:\n",
    "    1) Methods are written in the scope of class.\n",
    "    2) Methods take \"self\" as first parameter , then you know that its a method\n",
    "    3) self in method takes all the attributes which are defined in class and u can use the attributes \n",
    "       in method using self keyword .''')"
   ]
  },
  {
   "cell_type": "code",
   "execution_count": 11,
   "metadata": {},
   "outputs": [
    {
     "name": "stdout",
     "output_type": "stream",
     "text": [
      "\n",
      "Class\n",
      "A class is a blueprint for the object.\n",
      "We can think of class as an sketch of a parrot with labels. \n",
      "It contains all the details about the name, colors, size etc.\n",
      "Based on these descriptions, we can study about the parrot. \n",
      "Here, parrot is an object.\n",
      "The example for class of parrot can be :\n",
      "class Parrot:\n",
      "    pass\n",
      "Here, we use class keyword to define an empty class Parrot. From class, we construct instances.\n",
      "An instance is a specific object created from a particular class.\n",
      "\n",
      "Object\n",
      "An object (instance) is an instantiation of a class. \n",
      "When class is defined, only the description for the object is defined. \n",
      "Therefore, no memory or storage is allocated.\n",
      "\n",
      "The example for object of parrot class can be:\n",
      "\n",
      "obj = Parrot()\n",
      "Here, obj is object of class Parrot.\n",
      "\n",
      "Attribute\n",
      "Attribute are variables , \n",
      "it means address to memory loction of the value which these variables have\n",
      "self.name = playername\n",
      "self.number = number\n",
      "self.position = position\n",
      "\n",
      "Behavior\n",
      "printing is this methods behavior\n",
      "def specialists(self):\n",
      "print(self.name, \" is better in dribbble then other soccerPlayers\")\n",
      "\n"
     ]
    }
   ],
   "source": [
    "print('''\n",
    "Class\n",
    "A class is a blueprint for the object.\n",
    "We can think of class as an sketch of a parrot with labels. \n",
    "It contains all the details about the name, colors, size etc.\n",
    "Based on these descriptions, we can study about the parrot. \n",
    "Here, parrot is an object.\n",
    "The example for class of parrot can be :\n",
    "class Parrot:\n",
    "    pass\n",
    "Here, we use class keyword to define an empty class Parrot. From class, we construct instances.\n",
    "An instance is a specific object created from a particular class.\n",
    "\n",
    "Object\n",
    "An object (instance) is an instantiation of a class. \n",
    "When class is defined, only the description for the object is defined. \n",
    "Therefore, no memory or storage is allocated.\n",
    "\n",
    "The example for object of parrot class can be:\n",
    "\n",
    "obj = Parrot()\n",
    "Here, obj is object of class Parrot.\n",
    "\n",
    "Attribute\n",
    "Attribute are variables , \n",
    "it means address to memory loction of the value which these variables have\n",
    "self.name = playername\n",
    "self.number = number\n",
    "self.position = position\n",
    "\n",
    "Behavior\n",
    "printing is this methods behavior\n",
    "def specialists(self):\n",
    "print(self.name, \" is better in dribbble then other soccerPlayers\")\n",
    "''')\n",
    "\n",
    "                        "
   ]
  },
  {
   "cell_type": "code",
   "execution_count": 3,
   "metadata": {},
   "outputs": [
    {
     "name": "stdout",
     "output_type": "stream",
     "text": [
      "this car name is :  Corolla\n",
      "Suzuki\n",
      "Xayz-212\n"
     ]
    }
   ],
   "source": [
    "class Car:\n",
    "    def __init__(self,model,color,name,company,number):\n",
    "        self.model=model\n",
    "        self.color=color\n",
    "        self.name=name\n",
    "        self.company=company\n",
    "        self.number=number\n",
    "        \n",
    "    def print_name(self):\n",
    "        print(\"this car name is : \",self.name)\n",
    "            \n",
    "    def print_UPdatecompany(self):\n",
    "        self.company=\"Suzuki\"\n",
    "        print(self.company)\n",
    "            \n",
    "    def print_number(self):\n",
    "        print(self.number)\n",
    "            \n",
    "car1=Car('2019','Black','Corolla','Toyota','Abx-2132')\n",
    "car2=Car('2018','white','VIGO','Toyota','Xayz-212')\n",
    "car3=Car('2017','Red','land Cruiser','Toyota','cda-132')\n",
    "car4=Car('2016','Blue','Civic','Honda','zzw-32')\n",
    "car5=Car('2015','mate Black','City','Honda','Ax-22')\n",
    "\n",
    "\n",
    "\n",
    "car1.print_name()\n",
    "car2.print_UPdatecompany()\n",
    "car2.print_number()\n"
   ]
  },
  {
   "cell_type": "code",
   "execution_count": null,
   "metadata": {},
   "outputs": [],
   "source": []
  },
  {
   "cell_type": "code",
   "execution_count": null,
   "metadata": {},
   "outputs": [],
   "source": []
  }
 ],
 "metadata": {
  "kernelspec": {
   "display_name": "Python 3",
   "language": "python",
   "name": "python3"
  },
  "language_info": {
   "codemirror_mode": {
    "name": "ipython",
    "version": 3
   },
   "file_extension": ".py",
   "mimetype": "text/x-python",
   "name": "python",
   "nbconvert_exporter": "python",
   "pygments_lexer": "ipython3",
   "version": "3.7.4"
  }
 },
 "nbformat": 4,
 "nbformat_minor": 2
}
