{
 "cells": [
  {
   "cell_type": "code",
   "execution_count": 2,
   "metadata": {},
   "outputs": [
    {
     "name": "stdout",
     "output_type": "stream",
     "text": [
      "Enter first number9\n",
      "Enter second number8\n",
      "Enter operator -\n",
      "1 answer\n"
     ]
    }
   ],
   "source": [
    "\n",
    "val1=int(input('Enter first number'))\n",
    "val2=int(input('Enter second number'))\n",
    "operator = input('Enter operator ')\n",
    "\n",
    "if operator == '+':\n",
    "    val = val1 + val2\n",
    "    print(val,'answer')\n",
    "    \n",
    "elif operator == '-':\n",
    "    val = val1 - val2\n",
    "    print(val,'answer')\n",
    "    \n",
    "elif operator == '*':\n",
    "    val = val1 * val2\n",
    "    print(val,'answer')\n",
    "    \n",
    "elif operator == '/':\n",
    "    val = val1 / val2\n",
    "    print(val,'answer')\n",
    "    \n",
    "elif operator == '**':\n",
    "    val = val1 ** val2\n",
    "    print(val,'answer')\n",
    "else:\n",
    "    print('enter correct operator')\n",
    "    "
   ]
  },
  {
   "cell_type": "code",
   "execution_count": 3,
   "metadata": {},
   "outputs": [
    {
     "name": "stdout",
     "output_type": "stream",
     "text": [
      "20 is a numeric Value in List\n",
      "70 is a numeric Value in List\n",
      "2.5 is a numeric Value in List\n"
     ]
    }
   ],
   "source": [
    "array = ['mammma','cartoon',20,70,True,2.5,'apple','b']\n",
    "for i in array:\n",
    "    if type(i) == int:\n",
    "        print(i,\"is a numeric Value in List\")\n",
    "    elif type(i) == float:\n",
    "        print(i,\"is a numeric Value in List\")\n",
    "        \n",
    "        \n",
    "        "
   ]
  },
  {
   "cell_type": "code",
   "execution_count": 7,
   "metadata": {},
   "outputs": [
    {
     "name": "stdout",
     "output_type": "stream",
     "text": [
      "make_up_items foundations are 5\n",
      "make_up_items eyeshadows are 7\n",
      "make_up_items lipsticks are 10\n",
      "make_up_items glosses are 12\n",
      "make_up_items tints are 5\n",
      "make_up_items compact are 5\n"
     ]
    }
   ],
   "source": [
    "#dict = cosmetic\n",
    "cosmetic = {'foundations': '5', 'eyeshadows': '7','lipsticks': '10','glosses': '12','tints' :'5'}\n",
    "## adding compact = 5\n",
    "cosmetic['compact'] = '5'\n",
    "for each_product_key,each_product_value in cosmetic.items():\n",
    "        print(\"make_up_items\"+ \" \"+each_product_key + \" \" + \"are\"+ \" \"+each_product_value)"
   ]
  },
  {
   "cell_type": "code",
   "execution_count": 15,
   "metadata": {},
   "outputs": [
    {
     "name": "stdout",
     "output_type": "stream",
     "text": [
      "Sum of all numeric items a dictionary is 66\n"
     ]
    }
   ],
   "source": [
    "cosmetic = {\n",
    "    'wipe' : 12,\n",
    "    'compact' : 15,\n",
    "    'liner':'Bob',\n",
    "    'mascara':18,\n",
    "     5 : 'gloss',\n",
    "    'lipstick':21,\n",
    "}\n",
    "\n",
    "sum = 0\n",
    "\n",
    "for i in cosmetic.values():\n",
    "    if type(i) == int:\n",
    "        sum +=i\n",
    "\n",
    "print(\"Sum of all numeric items a dictionary is\" , sum)"
   ]
  },
  {
   "cell_type": "code",
   "execution_count": 17,
   "metadata": {},
   "outputs": [
    {
     "name": "stdout",
     "output_type": "stream",
     "text": [
      "Repeted item in list are [33, 25, 75]\n"
     ]
    }
   ],
   "source": [
    "array = [11,22,33,23,17,25,33,75,75,25]\n",
    "list_range = len(array)\n",
    "repeated = []\n",
    "for i in range (list_range):\n",
    "    a = i + 1\n",
    "    for b in range(a, list_range):\n",
    "        if array[i] == array[b] and array[i] not in repeated:\n",
    "            repeated.append(array[i])\n",
    "print(\"Repeted item in list are\" , repeated)"
   ]
  },
  {
   "cell_type": "code",
   "execution_count": 19,
   "metadata": {},
   "outputs": [
    {
     "name": "stdout",
     "output_type": "stream",
     "text": [
      "Enter Key Name Check if exist or notwipe\n",
      "Given Key exist\n"
     ]
    }
   ],
   "source": [
    "cosmetic = {\n",
    "    'wipe' : 12,\n",
    "    'compact' : 15,\n",
    "    'liner':'Bob',\n",
    "    'mascara':18,\n",
    "     5 : 'gloss',\n",
    "    'lipstick':21,\n",
    "}\n",
    "\n",
    "check_key = input(\"Enter Key Name Check if exist or not\")\n",
    "flag = False\n",
    "for i in cosmetic.keys():\n",
    "    if i == check_key:\n",
    "        flag = True\n",
    "        break\n",
    "\n",
    "if flag:\n",
    "    print(\"Given Key exist\")\n",
    "else:\n",
    "    print(\"Given Key dose not exist\")"
   ]
  },
  {
   "cell_type": "code",
   "execution_count": null,
   "metadata": {},
   "outputs": [],
   "source": []
  }
 ],
 "metadata": {
  "kernelspec": {
   "display_name": "Python 3",
   "language": "python",
   "name": "python3"
  },
  "language_info": {
   "codemirror_mode": {
    "name": "ipython",
    "version": 3
   },
   "file_extension": ".py",
   "mimetype": "text/x-python",
   "name": "python",
   "nbconvert_exporter": "python",
   "pygments_lexer": "ipython3",
   "version": "3.7.4"
  }
 },
 "nbformat": 4,
 "nbformat_minor": 2
}
