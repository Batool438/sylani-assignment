{
 "cells": [
  {
   "cell_type": "code",
   "execution_count": 7,
   "metadata": {},
   "outputs": [
    {
     "name": "stdout",
     "output_type": "stream",
     "text": [
      "Enter your marks of English out of 100 = 70\n",
      "Enter your marks of Urdu out of 100 = 80\n",
      "Enter your marks of Political_science out of 100 = 90\n",
      "Enter your marks of Pakistan Studies out of 100 = 89\n",
      "Enter your marks of Islamiat out of 100 = 87\n",
      "\n",
      "Total obtained marks:  416\n",
      "\n",
      "Percentage of all subjects:  83.2\n",
      "Congratulations! A+\n"
     ]
    }
   ],
   "source": [
    "#assignment_no_2_(mark_sheet)\n",
    "English= int(input(\"Enter your marks of English out of 100 = \"));\n",
    "Urdu= int(input(\"Enter your marks of Urdu out of 100 = \"));\n",
    "Political_science= int(input(\"Enter your marks of Political_science out of 100 = \"));\n",
    "Pakistan_Studies= int(input(\"Enter your marks of Pakistan Studies out of 100 = \"));\n",
    "Islamiat= int(input(\"Enter your marks of Islamiat out of 100 = \"));\n",
    "Total_obtained= (English+Urdu+Political_science+Pakistan_Studies+Islamiat);\n",
    "print (\"\\nTotal obtained marks: \" , Total_obtained);\n",
    "Percentage = (Total_obtained * 100) / 500\n",
    "print (\"\\nPercentage of all subjects: \",Percentage);\n",
    "\n",
    "if Percentage >= 80 and Percentage <=100:\n",
    " print(\"Congratulations! A+\")\n",
    "elif Percentage >=70 and Percentage <=80:\n",
    " print(\"Congratulations! A\")\n",
    "elif Percentage >=60 and Percentage <=70:\n",
    " print(\"Congratulations! B\")\n",
    "elif Percentage >=50 and Percentage <=60:\n",
    " print(\"C\") \n",
    "elif Percentage >=40 and Percentage <=50:\n",
    " print(\"D\") \n",
    "elif Percentage >33 and Percentage <=40:\n",
    " print(\"E\")\n",
    "elif Total_marks <33 :\n",
    " print(\"F\")\n",
    "else:\n",
    " print(\"you are given improper result\")\n",
    "\n"
   ]
  },
  {
   "cell_type": "code",
   "execution_count": 8,
   "metadata": {},
   "outputs": [
    {
     "name": "stdout",
     "output_type": "stream",
     "text": [
      "Type Even OR ODD Number:  5\n",
      "5 is Odd\n"
     ]
    }
   ],
   "source": [
    "#Answer 2\n",
    "userinput = int(input(\"Type Even OR ODD Number:  \"))\n",
    "\n",
    "if (userinput % 2) == 0:\n",
    "   print(\"{0} is Even\".format(userinput))\n",
    "else:\n",
    "   print(\"{0} is Odd\".format(userinput))\n"
   ]
  },
  {
   "cell_type": "code",
   "execution_count": 11,
   "metadata": {},
   "outputs": [
    {
     "name": "stdout",
     "output_type": "stream",
     "text": [
      "7\n"
     ]
    }
   ],
   "source": [
    "# question 03\n",
    "list=[66,34,33,47,51,\"xyz\",0.25]\n",
    "print(len(list))"
   ]
  },
  {
   "cell_type": "code",
   "execution_count": 12,
   "metadata": {},
   "outputs": [
    {
     "name": "stdout",
     "output_type": "stream",
     "text": [
      "sum of list= 159\n"
     ]
    }
   ],
   "source": [
    "# question 04\n",
    "list=[65,23,30,40,1]\n",
    "x=len(list)\n",
    "total=0\n",
    "for i in range (x):\n",
    "    total+=list[i]\n",
    "print(\"sum of list=\",total)\n"
   ]
  },
  {
   "cell_type": "code",
   "execution_count": 13,
   "metadata": {},
   "outputs": [
    {
     "name": "stdout",
     "output_type": "stream",
     "text": [
      "99\n"
     ]
    }
   ],
   "source": [
    "# question 05\n",
    "list=[5,1,99,45,51,87,17]\n",
    "print(max(list))\n"
   ]
  },
  {
   "cell_type": "code",
   "execution_count": 14,
   "metadata": {},
   "outputs": [
    {
     "name": "stdout",
     "output_type": "stream",
     "text": [
      "1\n",
      "1\n",
      "2\n",
      "3\n"
     ]
    }
   ],
   "source": [
    "#  question 06\n",
    "list=[1,1,2,3,5,8,13,21,34,55,89]\n",
    "x=len(list)\n",
    "for i in range(x):\n",
    "    if list[i]<5:\n",
    "        print(list[i])\n",
    "        "
   ]
  },
  {
   "cell_type": "code",
   "execution_count": null,
   "metadata": {},
   "outputs": [],
   "source": []
  }
 ],
 "metadata": {
  "kernelspec": {
   "display_name": "Python 3",
   "language": "python",
   "name": "python3"
  },
  "language_info": {
   "codemirror_mode": {
    "name": "ipython",
    "version": 3
   },
   "file_extension": ".py",
   "mimetype": "text/x-python",
   "name": "python",
   "nbconvert_exporter": "python",
   "pygments_lexer": "ipython3",
   "version": "3.7.4"
  }
 },
 "nbformat": 4,
 "nbformat_minor": 2
}
